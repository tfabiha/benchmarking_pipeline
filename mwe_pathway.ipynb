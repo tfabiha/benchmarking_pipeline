{
 "cells": [
  {
   "cell_type": "markdown",
   "id": "8ab79f3c-8838-43af-95c8-c21bf8c6a002",
   "metadata": {},
   "source": [
    "# MWE of pathway analysis"
   ]
  },
  {
   "cell_type": "markdown",
   "id": "19653a01-1f06-43f1-9d65-f5d910922c0d",
   "metadata": {},
   "source": [
    "# manually"
   ]
  },
  {
   "cell_type": "markdown",
   "id": "fa28e9ee-df25-4f92-b845-89d4aff0b181",
   "metadata": {},
   "source": [
    "Using Consensus Path DB-human to do pathway analysis at http://cpdb.molgen.mpg.de\n",
    "\n",
    "Do over-representation analysis.\n",
    "- provide foreground gene set (list of interesting genes for analysis)\n",
    "- provide background gene set (optional, for our work we've used the concatonation of all the gene sets we're exploring as the background)\n",
    "- run pathways as defined by pathway databases\n",
    "- from enriched pathway-based sets we picked the top 3 pathways with qvalue < 0.05"
   ]
  },
  {
   "cell_type": "markdown",
   "id": "54e554ce-b58a-4bf1-85f4-87c8df9ca26d",
   "metadata": {},
   "source": [
    "# automated"
   ]
  },
  {
   "cell_type": "markdown",
   "id": "af587a0c-14d9-4950-878a-26814efd50b3",
   "metadata": {},
   "source": [
    "Download web services interface from http://cpdb.molgen.mpg.de\n",
    "Documentation available http://cpdb.molgen.mpg.de/download/CPDB.wsdl\n",
    "\n",
    "Run code through python2\n",
    "Needs module ZSI which needs inactive module XML (needs to be manually downloaded and installed)\n",
    " - ZSI has some socket issues when running the code but overall still faster when doing a pathway analysis for multiple gene sets\n",
    " \n"
   ]
  },
  {
   "cell_type": "code",
   "execution_count": null,
   "id": "becc00da-c4d2-4a83-9719-9cc77a46b9a7",
   "metadata": {},
   "outputs": [],
   "source": []
  },
  {
   "cell_type": "code",
   "execution_count": null,
   "id": "2e9c65dc-6f17-46c7-81ab-7585a6892236",
   "metadata": {},
   "outputs": [],
   "source": [
    "#### PYTHON CODE TO RUN ####\n",
    "############################\n",
    "\n",
    "import random\n",
    "import sys\n",
    "import os\n",
    "import pandas as pd\n",
    "\n",
    "from cpdb_services import *\n",
    "loc = cpdbLocator()\n",
    "proxy = loc.getcpdb_portType(tracefile=sys.stdout)\n",
    "\n",
    "main_dir = \"pmdfiltered_top1000\"\n",
    "li = os.listdir(main_dir)\n",
    "\n",
    "tot_bg = list()\n",
    "for i in li:\n",
    "    temp = pd.read_csv(main_dir+\"/\"+i, sep=\"\\t\", header=None)[0].to_list()\n",
    "    tot_bg += temp\n",
    "req = mapAccessionNumbersRequest()\n",
    "req._accType = 'hgnc-symbol'\n",
    "req._accNumbers = tot_bg\n",
    "response = proxy.mapAccessionNumbers(req)\n",
    "result = zip(response._accNumber, response._cpdbId)\n",
    "bg = []\n",
    "for r in result:\n",
    "    if r[1]:\n",
    "        bg.append(r[1].split(',')[0])\n",
    "\n",
    "results_dir = \"results\"\n",
    "\n",
    "while len(li) > 0:\n",
    "    try:\n",
    "        rli = os.listdir(results_dir)\n",
    "\n",
    "        li = sorted(set(li) - set(rli))\n",
    "\n",
    "        for file in li:\n",
    "            fg = pd.read_csv(main_dir+\"/\"+file, sep=\"\\t\", header=None)[0].to_list()\n",
    "\n",
    "            req = mapAccessionNumbersRequest()\n",
    "            req._accType = 'hgnc-symbol' # \n",
    "            req._accNumbers = fg\n",
    "            response = proxy.mapAccessionNumbers(req)\n",
    "            result = zip(response._accNumber, response._cpdbId)\n",
    "            fg = []\n",
    "            for r in result:\n",
    "                if r[1]:\n",
    "                    fg.append(r[1].split(',')[0])\n",
    "\n",
    "            req = overRepresentationAnalysisRequest()\n",
    "            req._entityType = 'genes'\n",
    "            req._fsetType = 'P'\n",
    "            req._cpdbIdsFg = fg\n",
    "            req._cpdbIdsBg = bg\n",
    "            req._pThreshold = 1\n",
    "            response = proxy.overRepresentationAnalysis(req)\n",
    "            result = zip(response._name, response._details, response._overlappingEntitiesNum, response._allEntitiesNum, response._pValue, response._qValue)\n",
    "            print result[:5]\n",
    "\n",
    "            pd.DataFrame(result).to_csv(\"results\"+\"/\"+file, sep=\"\\t\", header=False, index=False)\n",
    "    except socket.error:\n",
    "        pass"
   ]
  },
  {
   "cell_type": "code",
   "execution_count": null,
   "id": "7c9db1c0-4b9b-495d-b5c5-f2647da0d4f1",
   "metadata": {},
   "outputs": [],
   "source": []
  }
 ],
 "metadata": {
  "kernelspec": {
   "display_name": "Python 3 (ipykernel)",
   "language": "python",
   "name": "python3"
  },
  "language_info": {
   "codemirror_mode": {
    "name": "ipython",
    "version": 3
   },
   "file_extension": ".py",
   "mimetype": "text/x-python",
   "name": "python",
   "nbconvert_exporter": "python",
   "pygments_lexer": "ipython3",
   "version": "3.9.7"
  }
 },
 "nbformat": 4,
 "nbformat_minor": 5
}
